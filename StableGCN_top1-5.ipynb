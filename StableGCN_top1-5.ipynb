{
 "cells": [
  {
   "cell_type": "code",
   "execution_count": 1,
   "id": "5c8b2aab-3df7-4b34-a7e3-57fd793a16cb",
   "metadata": {},
   "outputs": [],
   "source": [
    "from ImportLocalData import loadData"
   ]
  },
  {
   "cell_type": "code",
   "execution_count": 2,
   "id": "4db67821-8a58-4bcf-b1da-16452b3c09ea",
   "metadata": {},
   "outputs": [],
   "source": [
    "from BalanceClassDistribution import AdjustClassSamples, NumberOfSamplesClass"
   ]
  },
  {
   "cell_type": "code",
   "execution_count": null,
   "id": "37209ccb-297a-4e3f-9318-4e497f4c9040",
   "metadata": {},
   "outputs": [],
   "source": [
    "# Import one of the custom STKG files\n",
    "# Call BalanceClass... to handle outliers if you need\n",
    "# Please change path names based on your local files \n",
    "data = loadData('.../node_features.txt', '.../edges.txt', '.../edge_features.txt', '.../node_labels.txt')\n",
    "data = AdjustClassSamples(data) #this is optional, yet in paper we used"
   ]
  },
  {
   "cell_type": "markdown",
   "id": "1921e639-ac76-41d3-9846-ba89dab767ea",
   "metadata": {},
   "source": [
    "Train and test the model for top-1 / top-5 accuracy"
   ]
  },
  {
   "cell_type": "markdown",
   "id": "f6d02f2c-7db0-4d56-aed6-14d5ce8a1f3a",
   "metadata": {},
   "source": [
    "Import required packages"
   ]
  },
  {
   "cell_type": "code",
   "execution_count": null,
   "id": "9789160f-3acd-431b-ba0d-b8edc6f5851c",
   "metadata": {},
   "outputs": [],
   "source": [
    "import torch\n",
    "import torch.nn.functional as F\n",
    "from torch_geometric.nn import GCNConv\n",
    "from torch_geometric.loader import DataLoader\n",
    "from torch.nn import LayerNorm\n",
    "from sklearn.preprocessing import StandardScaler\n",
    "from sklearn.model_selection import train_test_split\n",
    "from torch_geometric.utils import subgraph\n",
    "from torch_geometric.data import Data"
   ]
  },
  {
   "cell_type": "markdown",
   "id": "69460ae0-71e4-4f71-a150-2fc3982dfada",
   "metadata": {},
   "source": [
    "StableGCN Model Structure"
   ]
  },
  {
   "cell_type": "code",
   "execution_count": 4,
   "id": "6aac7d38-d7f0-4f0f-971f-cb6053e92753",
   "metadata": {},
   "outputs": [],
   "source": [
    "device = torch.device(\"cuda\" if torch.cuda.is_available() else \"cpu\")\n",
    "\n",
    "class StableGCN(torch.nn.Module):\n",
    "    def __init__(self, in_channels, hidden_channels, out_channels):\n",
    "        super(StableGCN, self).__init__()\n",
    "        self.conv1 = GCNConv(in_channels, hidden_channels)\n",
    "        self.conv2 = GCNConv(hidden_channels, hidden_channels)\n",
    "        self.norm1 = LayerNorm(hidden_channels)\n",
    "        self.norm2 = LayerNorm(hidden_channels)\n",
    "        self.fc = torch.nn.Linear(hidden_channels, out_channels)\n",
    "        self.dropout = torch.nn.Dropout(p=0.5)\n",
    "        self.skip_proj = torch.nn.Linear(in_channels, hidden_channels)\n",
    "\n",
    "    def forward(self, data):\n",
    "        x, edge_index = data.x.to(device), data.edge_index.to(device)        \n",
    "        x_init = self.skip_proj(x)\n",
    "        x = self.conv1(x, edge_index)\n",
    "        x = self.norm1(x)\n",
    "        x = F.relu(x)\n",
    "        x = x + x_init  # Skip connection\n",
    "        x = self.dropout(x)\n",
    "        x_init = x\n",
    "        x = self.conv2(x, edge_index)\n",
    "        x = self.norm2(x)\n",
    "        x = F.relu(x)\n",
    "        x = x + x_init\n",
    "        x = self.dropout(x)\n",
    "        out = self.fc(x)\n",
    "        return out\n",
    "\n"
   ]
  },
  {
   "cell_type": "markdown",
   "id": "06741e1e-94dd-47fa-ac28-7c897498df5e",
   "metadata": {},
   "source": [
    "Prepare data and subgraphs"
   ]
  },
  {
   "cell_type": "code",
   "execution_count": 5,
   "id": "1ef6d96d-f37d-47f9-a71d-30f8f916083a",
   "metadata": {},
   "outputs": [],
   "source": [
    "def prepareData(data):\n",
    "    scaler = StandardScaler()\n",
    "    data.x = data.x.cpu()\n",
    "    x_scaled = scaler.fit_transform(data.x.numpy())\n",
    "    data.x = torch.tensor(x_scaled, dtype=torch.float).to(device)\n",
    "    \n",
    "# tarin-test split\n",
    "    train_idx, test_idx = train_test_split(torch.arange(data.num_nodes), test_size=0.2, stratify=data.y.cpu().numpy())\n",
    "    train_idx = torch.tensor(train_idx, dtype=torch.long)\n",
    "    test_idx = torch.tensor(test_idx, dtype=torch.long)    \n",
    "# create subgraps\n",
    "    trainSubgraph = subgraph(train_idx, data.edge_index, relabel_nodes=True, num_nodes=data.num_nodes)\n",
    "    testSubgraph = subgraph(test_idx, data.edge_index, relabel_nodes=True, num_nodes=data.num_nodes)\n",
    "    train_data = Data(x=data.x[train_idx], edge_index=trainSubgraph[0], y=data.y[train_idx])\n",
    "    test_data = Data(x=data.x[test_idx], edge_index=testSubgraph[0], y=data.y[test_idx])\n",
    "    return train_data, test_data\n"
   ]
  },
  {
   "cell_type": "markdown",
   "id": "18e7e95e-d7ad-427e-8a90-fae31eeeabbe",
   "metadata": {},
   "source": [
    "Train / Evaluate Model "
   ]
  },
  {
   "cell_type": "code",
   "execution_count": null,
   "id": "4f95802b-afe1-43fb-b580-0da1f81acac1",
   "metadata": {},
   "outputs": [],
   "source": [
    "def train_model(model, train_data, num_epochs=4000):\n",
    "    optimizer = torch.optim.Adam(model.parameters(), lr=0.01, weight_decay=1e-4)\n",
    "    scheduler = torch.optim.lr_scheduler.StepLR(optimizer, step_size=1000, gamma=0.5)\n",
    "    loss_fn = torch.nn.CrossEntropyLoss()\n",
    "    train_loader = DataLoader([train_data], batch_size=32, shuffle=True)\n",
    "    \n",
    "    for epoch in range(num_epochs):\n",
    "        model.train()\n",
    "        epoch_loss = 0       \n",
    "        for batch in train_loader:\n",
    "            batch = batch.to(device)\n",
    "            optimizer.zero_grad()\n",
    "            out = model(batch)\n",
    "            loss = loss_fn(out, batch.y)\n",
    "            loss.backward()\n",
    "            torch.nn.utils.clip_grad_norm_(model.parameters(), max_norm=1.0)\n",
    "            optimizer.step()\n",
    "            epoch_loss += loss.item()        \n",
    "        scheduler.step()        \n",
    "        if (epoch + 1) % 100 == 0:\n",
    "            print(f'Epoch: {epoch+1}, Loss: {epoch_loss:.4f}, LR: {scheduler.get_last_lr()[0]:.6f}')\n",
    "\n",
    "# Evalution fution with Top-1 and Top-5 Acuracy\n",
    "def evaluate_model(model, test_data):\n",
    "    model.eval()\n",
    "    test_loader = DataLoader([test_data], batch_size=32)\n",
    "    correctTop1 = 0\n",
    "    correctTop5 = 0\n",
    "    total = 0\n",
    "    \n",
    "    with torch.no_grad():\n",
    "        for batch in test_loader:\n",
    "            batch = batch.to(device)\n",
    "            outputs = model(batch)\n",
    "            _, predicted = torch.max(outputs.data, 1)  # Top1 accuracy\n",
    "            correctTop1 += (predicted == batch.y).sum().item()\n",
    "            _, top5_pred = outputs.topk(5, 1, True, True)  # Top-5 accuray\n",
    "            correctTop5 += top5_pred.eq(batch.y.view(-1, 1)).sum().item()            \n",
    "            total += batch.y.size(0)\n",
    "    \n",
    "    top1Accuracy = 100 * correctTop1 / total\n",
    "    top5Accuracy = 100 * correctTop5 / total\n",
    "    \n",
    "    print(f'Top-1 Accuracy: {top1Accuracy:.2f}%')\n",
    "    print(f'Top-5 Accuracy: {top5Accuracy:.2f}%')\n",
    "\n",
    "if __name__ == \"__main__\":\n",
    "    train_data, test_data = prepareData(data)\n",
    "    \n",
    "    # Initialize model\n",
    "    num_node_features = data.num_node_features\n",
    "    num_classes = len(data.y.unique())\n",
    "    model = StableGCN(num_node_features, 256, num_classes).to(device)\n",
    "    \n",
    "    train_model(model, train_data)\n",
    "    evaluate_model(model, test_data)\n",
    "    \n",
    "    torch.save(model.state_dict(), 'StableGCN_model.pth')"
   ]
  },
  {
   "cell_type": "code",
   "execution_count": null,
   "id": "484aaab3-491a-48cc-a1cd-a2f22bb1b683",
   "metadata": {},
   "outputs": [],
   "source": []
  }
 ],
 "metadata": {
  "kernelspec": {
   "display_name": "Python 3 (ipykernel)",
   "language": "python",
   "name": "python3"
  },
  "language_info": {
   "codemirror_mode": {
    "name": "ipython",
    "version": 3
   },
   "file_extension": ".py",
   "mimetype": "text/x-python",
   "name": "python",
   "nbconvert_exporter": "python",
   "pygments_lexer": "ipython3",
   "version": "3.9.19"
  }
 },
 "nbformat": 4,
 "nbformat_minor": 5
}
